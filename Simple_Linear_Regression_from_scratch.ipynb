{
 "cells": [
  {
   "cell_type": "code",
   "execution_count": 1,
   "id": "4f5e9d65-3a48-4e96-8d43-b764e6b57729",
   "metadata": {},
   "outputs": [],
   "source": [
    "import turicreate"
   ]
  },
  {
   "cell_type": "code",
   "execution_count": 4,
   "id": "af569d00-e3a8-4cf8-b87e-534b177cff03",
   "metadata": {},
   "outputs": [],
   "source": [
    "sales = turicreate.SFrame('home_data1.sframe/')"
   ]
  },
  {
   "cell_type": "code",
   "execution_count": 5,
   "id": "d0e4a8e3-f6af-4644-a27e-fa9f80244b5f",
   "metadata": {},
   "outputs": [],
   "source": [
    "train_data,test_data = sales.random_split(0.8,seed=0)"
   ]
  },
  {
   "cell_type": "code",
   "execution_count": 16,
   "id": "5a9b6fc2-2612-4449-860e-2b0f0485a682",
   "metadata": {},
   "outputs": [],
   "source": [
    "def simple_linear_regression(input_feature, output):\n",
    "    # compute the sum of input_feature and output\n",
    "    sumx = input_feature.sum()\n",
    "    sumy = output.sum()\n",
    "    # compute the product of the output and the input_feature and its sum\n",
    "    sumxy = (input_feature*output).sum()\n",
    "    # compute the squared value of the input_feature and its sum\n",
    "    sumx2 = (input_feature**2).sum()\n",
    "    n = len(input_feature)\n",
    "    # use the formula for the slope\n",
    "    slope = (sumxy - (sumx * sumy) / n) / (sumx2 - (sumx ** 2) / n)\n",
    "    # use the formula for the intercept\n",
    "    intercept  = (sumy - slope * sumx) / n\n",
    "    return (intercept, slope)"
   ]
  },
  {
   "cell_type": "code",
   "execution_count": 17,
   "id": "8e4164df-874f-43cb-9aaf-480c9199db7c",
   "metadata": {},
   "outputs": [
    {
     "data": {
      "text/plain": [
       "(-47116.07657493999, 281.9588385676974)"
      ]
     },
     "execution_count": 17,
     "metadata": {},
     "output_type": "execute_result"
    }
   ],
   "source": [
    "input_feature = train_data['sqft_living']\n",
    "output = train_data['price']\n",
    "simple_linear_regression(input_feature, output)\n"
   ]
  },
  {
   "cell_type": "code",
   "execution_count": 19,
   "id": "acfa6bbc-2d9b-4413-86f3-3926755dfb57",
   "metadata": {},
   "outputs": [
    {
     "name": "stdout",
     "output_type": "stream",
     "text": [
      "Intercept: 1.0\n",
      "Slope: 1.0\n"
     ]
    }
   ],
   "source": [
    "test_feature = turicreate.SArray(range(5))\n",
    "test_output = turicreate.SArray(1 + 1*test_feature)\n",
    "(test_intercept, test_slope) =  simple_linear_regression(test_feature, test_output)\n",
    "print (\"Intercept: \" + str(test_intercept))\n",
    "print (\"Slope: \" + str(test_slope))"
   ]
  },
  {
   "cell_type": "code",
   "execution_count": 20,
   "id": "a549f388-e427-46b4-a182-27a2760940ad",
   "metadata": {},
   "outputs": [],
   "source": [
    "def get_regression_predictions(input_feature, intercept, slope):\n",
    "    # calculate the predicted values:\n",
    "    predicted_values = intercept + slope*input_feature\n",
    "    \n",
    "    return predicted_values"
   ]
  },
  {
   "cell_type": "code",
   "execution_count": 23,
   "id": "60d8f372-1b8b-494a-9315-ec516887bc99",
   "metadata": {},
   "outputs": [],
   "source": [
    "sqft_intercept, sqft_slope = simple_linear_regression(train_data['sqft_living'], train_data['price'])"
   ]
  },
  {
   "cell_type": "code",
   "execution_count": 24,
   "id": "02d4b8e9-122d-42f9-ae96-709163d7d43f",
   "metadata": {
    "scrolled": true
   },
   "outputs": [
    {
     "name": "stdout",
     "output_type": "stream",
     "text": [
      "The estimated price for a house with 2650 squarefeet is $700074.85\n"
     ]
    }
   ],
   "source": [
    "my_house_sqft = 2650\n",
    "estimated_price = get_regression_predictions(my_house_sqft, sqft_intercept, sqft_slope)\n",
    "print (\"The estimated price for a house with %d squarefeet is $%.2f\" % (my_house_sqft, estimated_price))\n"
   ]
  },
  {
   "cell_type": "code",
   "execution_count": 25,
   "id": "d5a294dc-9520-44a9-a9a1-fa55f04a5481",
   "metadata": {},
   "outputs": [],
   "source": [
    "def get_residual_sum_of_squares(input_feature, output, intercept, slope):\n",
    "    # First get the predictions\n",
    "    predicted_output = intercept + slope * input_feature\n",
    "\n",
    "    # Then compute the residuals (difference between actual and predicted values)\n",
    "    residuals = output - predicted_output\n",
    "\n",
    "    # Square the residuals and add them up\n",
    "    RSS = (residuals ** 2).sum()\n",
    "\n",
    "    return RSS"
   ]
  },
  {
   "cell_type": "code",
   "execution_count": 26,
   "id": "032d3b91-056a-4438-81d3-43fd8fe7203b",
   "metadata": {},
   "outputs": [
    {
     "name": "stdout",
     "output_type": "stream",
     "text": [
      "0.0\n"
     ]
    }
   ],
   "source": [
    "print (get_residual_sum_of_squares(test_feature, test_output, test_intercept, test_slope))"
   ]
  },
  {
   "cell_type": "code",
   "execution_count": 27,
   "id": "9fe16e1a-2026-4101-be2d-f3a8f6609c54",
   "metadata": {},
   "outputs": [],
   "source": [
    "def inverse_regression_predictions(output, intercept, slope):\n",
    "    # solve output = intercept + slope*input_feature for input_feature. Use this equation to compute the inverse predictions:\n",
    "    estimated_feature = (output - intercept)/slope\n",
    "    return estimated_feature"
   ]
  },
  {
   "cell_type": "code",
   "execution_count": 29,
   "id": "c6e374cc-d7ac-407f-9825-3b58febc21ff",
   "metadata": {},
   "outputs": [
    {
     "name": "stdout",
     "output_type": "stream",
     "text": [
      "The estimated squarefeet for a house worth $800000.00 is 3004\n"
     ]
    }
   ],
   "source": [
    "my_house_price = 800000\n",
    "estimated_squarefeet = inverse_regression_predictions(my_house_price, sqft_intercept, sqft_slope)\n",
    "print (\"The estimated squarefeet for a house worth $%.2f is %d\" % (my_house_price, estimated_squarefeet))"
   ]
  },
  {
   "cell_type": "code",
   "execution_count": 30,
   "id": "df7d64c2-a08b-4f65-ab32-368d8b62d12c",
   "metadata": {},
   "outputs": [],
   "source": [
    "# Estimate the slope and intercept for predicting 'price' based on 'bedrooms'\n",
    "input_feature = train_data['bedrooms']\n",
    "output = train_data['price']"
   ]
  },
  {
   "cell_type": "code",
   "execution_count": 31,
   "id": "65dbc41c-a526-4b27-bb6d-baa405e91bdb",
   "metadata": {},
   "outputs": [],
   "source": [
    "test_intercept ,test_slope = simple_linear_regression(input_feature, output)"
   ]
  },
  {
   "cell_type": "code",
   "execution_count": 32,
   "id": "bdb57e91-f001-41f4-b0cb-a8f7ec2bb396",
   "metadata": {},
   "outputs": [
    {
     "name": "stdout",
     "output_type": "stream",
     "text": [
      "2143244494226580.5\n"
     ]
    }
   ],
   "source": [
    "# Compute RSS when using bedrooms on TEST data:\n",
    "print (get_residual_sum_of_squares(input_feature, output, test_intercept, test_slope))\n",
    "    "
   ]
  },
  {
   "cell_type": "code",
   "execution_count": 43,
   "id": "f407940b-0ad1-4337-a995-85a62e133e39",
   "metadata": {},
   "outputs": [],
   "source": [
    "input_feature = train_data['sqft_living']\n",
    "output = train_data['price']\n"
   ]
  },
  {
   "cell_type": "code",
   "execution_count": 44,
   "id": "4d79cae7-fb8a-4471-856c-1bf8669650e1",
   "metadata": {},
   "outputs": [],
   "source": [
    "test_intercept ,test_slope = simple_linear_regression(input_feature, output)"
   ]
  },
  {
   "cell_type": "code",
   "execution_count": 45,
   "id": "ed805559-d2ca-4565-b5e2-4a98a907b4c2",
   "metadata": {},
   "outputs": [
    {
     "name": "stdout",
     "output_type": "stream",
     "text": [
      "1201918356321966.8\n"
     ]
    }
   ],
   "source": [
    "print (get_residual_sum_of_squares(input_feature, output, test_intercept, test_slope))\n",
    "    "
   ]
  },
  {
   "cell_type": "code",
   "execution_count": 46,
   "id": "effb2024-97e5-4880-baea-dbe1a4083b1c",
   "metadata": {},
   "outputs": [
    {
     "data": {
      "text/plain": [
       "3004.396247615945"
      ]
     },
     "execution_count": 46,
     "metadata": {},
     "output_type": "execute_result"
    }
   ],
   "source": [
    "inverse_regression_predictions(800000,test_intercept ,test_slope )"
   ]
  }
 ],
 "metadata": {
  "kernelspec": {
   "display_name": "Python 3 (ipykernel)",
   "language": "python",
   "name": "python3"
  },
  "language_info": {
   "codemirror_mode": {
    "name": "ipython",
    "version": 3
   },
   "file_extension": ".py",
   "mimetype": "text/x-python",
   "name": "python",
   "nbconvert_exporter": "python",
   "pygments_lexer": "ipython3",
   "version": "3.8.18"
  }
 },
 "nbformat": 4,
 "nbformat_minor": 5
}
